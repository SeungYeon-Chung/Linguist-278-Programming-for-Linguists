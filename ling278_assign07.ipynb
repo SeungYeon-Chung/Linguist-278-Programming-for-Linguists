{
 "cells": [
  {
   "cell_type": "markdown",
   "metadata": {},
   "source": [
    "\n",
    "<p>Linguist 278: Programming for Linguists<br/>\n",
    "Stanford Linguistics, Fall 2020<br/>\n",
    "Christopher Potts</p>\n"
   ]
  },
  {
   "cell_type": "markdown",
   "metadata": {},
   "source": [
    "\n",
    "<h1 id=\"Assignment-7:-Language-dataset-hackathon\">Assignment 7: Language dataset hackathon<a class=\"anchor-link\" href=\"#Assignment-7:-Language-dataset-hackathon\">¶</a></h1>\n"
   ]
  },
  {
   "cell_type": "markdown",
   "metadata": {},
   "source": [
    "\n",
    "<p>Distributed 2020-11-02<br/>\n",
    "Due 2020-11-09 (but my intention is that you will be able to turn it in after class on Nov 4)</p>\n"
   ]
  },
  {
   "cell_type": "markdown",
   "metadata": {},
   "source": [
    "\n",
    "<h2 id=\"Contents\">Contents<a class=\"anchor-link\" href=\"#Contents\">¶</a></h2><ol>\n",
    "<li><a href=\"#Overview\">Overview</a><ol>\n",
    "<li><a href=\"#Requirements\">Requirements</a></li>\n",
    "<li><a href=\"#Ideas\">Ideas</a></li>\n",
    "</ol>\n",
    "</li>\n",
    "<li><a href=\"#Set-up\">Set-up</a></li>\n",
    "<li><a href=\"#Age-of-acquisition-dataset\">Age of acquisition dataset</a></li>\n",
    "<li><a href=\"#Concreteness-dataset\">Concreteness dataset</a></li>\n",
    "<li><a href=\"#Sentiment-dataset\">Sentiment dataset</a></li>\n",
    "<li><a href=\"#Beautiful-words\">Beautiful words</a></li>\n",
    "<li><a href=\"#Novels-from-Project-Gutenberg\">Novels from Project Gutenberg</a></li>\n",
    "<li><a href=\"#Potentially-useful-code\">Potentially useful code</a><ol>\n",
    "<li><a href=\"#Project-Gutenberg-iterator\">Project Gutenberg iterator</a></li>\n",
    "<li><a href=\"#Sentence-tokenizing-using-NLTK\">Sentence tokenizing using NLTK</a></li>\n",
    "<li><a href=\"#Word-counts\">Word counts</a></li>\n",
    "<li><a href=\"#egrep\">egrep</a></li>\n",
    "</ol>\n",
    "</li>\n",
    "</ol>\n"
   ]
  },
  {
   "cell_type": "markdown",
   "metadata": {},
   "source": [
    "\n",
    "<h2 id=\"Overview\">Overview<a class=\"anchor-link\" href=\"#Overview\">¶</a></h2><ul>\n",
    "<li><p>Our in-class hackathon on November 2 and 4 <em>is</em> Assignment 7. My hope is that you can complete the hackathon/homework by the end of class on November 7.</p>\n",
    "</li>\n",
    "<li><p>You are encouraged to work in groups (max size: 3 people).</p>\n",
    "</li>\n",
    "<li><p>The requirements are much more open-ended than for other assignments. Part of the task is to think up an original question using the materials in this notebook. I've given some general ideas below to get you started.</p>\n",
    "</li>\n",
    "<li><p>You should think about scoping the problem so that you can complete it in two class periods. This is something you should assess for yourselves. Of course, you <em>can</em> take until Nov 9 if you like, but I'd advise not doing that!</p>\n",
    "</li>\n",
    "</ul>\n",
    "<h3 id=\"Requirements\">Requirements<a class=\"anchor-link\" href=\"#Requirements\">¶</a></h3><ul>\n",
    "<li><p>Designate one person to submit the notebook and make absolutely sure all group members names are given at the top of the noteboook.</p>\n",
    "</li>\n",
    "<li><p>Submit a modified version of this notebook, with your new code included, extraneous code removed, and prose added so that I can follow along. That is, try to make this notebook look like a polished piece of <a href=\"https://en.wikipedia.org/wiki/Literate_programming\">literate programming</a>.</p>\n",
    "</li>\n",
    "<li><p>I am guessing most notebooks will have about the scope of three regular two-pointer assignment questions, with some prose explaining what they do and why. However, there is no strict requirement on code quantity or anything.</p>\n",
    "</li>\n",
    "<li><p>You needn't confine yourself to the data and other resources in this notebook. (There is a lot to work with here, though.)</p>\n",
    "</li>\n",
    "</ul>\n",
    "<h3 id=\"Ideas\">Ideas<a class=\"anchor-link\" href=\"#Ideas\">¶</a></h3><p>Examples of things you might do (not meant to be restrictive!):</p>\n",
    "<ul>\n",
    "<li><p>Write code that identifies interesting relationships in the concreteness, sentiment, and age of aquisition datasets. You can use Pandas to merge them on their <code>Index</code> values and then reason across them!</p>\n",
    "</li>\n",
    "<li><p>Write code that identifies differences between Project Gutenberg authors as revealed by the concreteness, sentiment, age of acquisition, and/or beautiful words datasets.</p>\n",
    "</li>\n",
    "<li><p>Write code to find the <em>most something</em> – the most sentiment-laden sentence or passage, the most challenging passage, the most abstract passage, etc. I've included code below for heuristic paragraph and sentence parsing.</p>\n",
    "</li>\n",
    "</ul>\n"
   ]
  },
  {
   "cell_type": "markdown",
   "metadata": {},
   "source": [
    "\n",
    "<h2 id=\"Set-up\">Set-up<a class=\"anchor-link\" href=\"#Set-up\">¶</a></h2>\n"
   ]
  },
  {
   "cell_type": "code",
   "execution_count": 1,
   "metadata": {},
   "outputs": [],
   "source": [
    "%matplotlib inline\n",
    "import glob\n",
    "import os\n",
    "import pandas as pd\n",
    "import re\n",
    "import string"
   ]
  },
  {
   "cell_type": "markdown",
   "metadata": {},
   "source": [
    "\n",
    "<p>Download the hackathon data distribution:</p>\n",
    "<p><a href=\"http://web.stanford.edu/class/linguist278/data/hackathon.zip\">http://web.stanford.edu/class/linguist278/data/hackathon.zip</a></p>\n",
    "<p>and unzip it in the same directory as this notebook. (If you want to put it somewhere else, just be sure to change <code>data_home</code> in the next cell.)</p>\n"
   ]
  },
  {
   "cell_type": "code",
   "execution_count": 8,
   "metadata": {},
   "outputs": [],
   "source": [
    "data_home = os.path.join('data', 'hackathon')"
   ]
  },
  {
   "cell_type": "markdown",
   "metadata": {},
   "source": [
    "\n",
    "<h2 id=\"Age-of-acquisition-dataset\">Age of acquisition dataset<a class=\"anchor-link\" href=\"#Age-of-acquisition-dataset\">¶</a></h2><p>From <a href=\"https://www.humanities.mcmaster.ca/~vickup/Kuperman-BRM-2012.pdf\">Age-of-acquisition ratings for 30 thousand English words</a> (Victor Kuperman, Hans Stadthagen-Gonzalez, and Marc Brysbaert, <em>Behavior Research Methods</em>, 2014):</p>\n",
    "<ol>\n",
    "<li><code>Word</code>: The word (str)</li>\n",
    "<li><code>OccurTotal</code>: token count in their data</li>\n",
    "<li><code>OccurNum</code>: Participants who gave an age-of-acquisition, rather than saying \"Unknown\"</li>\n",
    "<li><code>Rating.Mean</code>: mean age of aquisition in years of age</li>\n",
    "<li><code>Rating.SD</code>: standard deviation of the distribution of ages of acquisition</li>\n",
    "</ol>\n"
   ]
  },
  {
   "cell_type": "code",
   "execution_count": 12,
   "metadata": {},
   "outputs": [],
   "source": [
    "\n",
    "age_df = pd.read_csv(\n",
    "    os.path.join(data_home, \"Kuperman-BRM-data-2012.csv\"),\n",
    "    index_col='Word')"
   ]
  },
  {
   "cell_type": "code",
   "execution_count": 10,
   "metadata": {},
   "outputs": [
    {
     "data": {
      "text/plain": [
       "(30121, 5)"
      ]
     },
     "execution_count": 10,
     "metadata": {},
     "output_type": "execute_result"
    }
   ],
   "source": [
    "\n",
    "age_df.shape\n",
    "\n"
   ]
  },
  {
   "cell_type": "code",
   "execution_count": 11,
   "metadata": {},
   "outputs": [
    {
     "data": {
      "text/html": [
       "<div>\n",
       "<style scoped>\n",
       "    .dataframe tbody tr th:only-of-type {\n",
       "        vertical-align: middle;\n",
       "    }\n",
       "\n",
       "    .dataframe tbody tr th {\n",
       "        vertical-align: top;\n",
       "    }\n",
       "\n",
       "    .dataframe thead th {\n",
       "        text-align: right;\n",
       "    }\n",
       "</style>\n",
       "<table border=\"1\" class=\"dataframe\">\n",
       "  <thead>\n",
       "    <tr style=\"text-align: right;\">\n",
       "      <th></th>\n",
       "      <th>OccurTotal</th>\n",
       "      <th>OccurNum</th>\n",
       "      <th>Rating.Mean</th>\n",
       "      <th>Rating.SD</th>\n",
       "      <th>Frequency</th>\n",
       "    </tr>\n",
       "    <tr>\n",
       "      <th>Word</th>\n",
       "      <th></th>\n",
       "      <th></th>\n",
       "      <th></th>\n",
       "      <th></th>\n",
       "      <th></th>\n",
       "    </tr>\n",
       "  </thead>\n",
       "  <tbody>\n",
       "    <tr>\n",
       "      <th>have</th>\n",
       "      <td>18</td>\n",
       "      <td>18</td>\n",
       "      <td>3.72</td>\n",
       "      <td>1.96</td>\n",
       "      <td>314232.0</td>\n",
       "    </tr>\n",
       "    <tr>\n",
       "      <th>do</th>\n",
       "      <td>20</td>\n",
       "      <td>20</td>\n",
       "      <td>3.60</td>\n",
       "      <td>1.60</td>\n",
       "      <td>312915.0</td>\n",
       "    </tr>\n",
       "  </tbody>\n",
       "</table>\n",
       "</div>"
      ],
      "text/plain": [
       "      OccurTotal  OccurNum  Rating.Mean  Rating.SD  Frequency\n",
       "Word                                                         \n",
       "have          18        18         3.72       1.96   314232.0\n",
       "do            20        20         3.60       1.60   312915.0"
      ]
     },
     "execution_count": 11,
     "metadata": {},
     "output_type": "execute_result"
    }
   ],
   "source": [
    "\n",
    "age_df.head(2)\n",
    "\n"
   ]
  },
  {
   "cell_type": "markdown",
   "metadata": {},
   "source": [
    "\n",
    "<h2 id=\"Concreteness-dataset\">Concreteness dataset<a class=\"anchor-link\" href=\"#Concreteness-dataset\">¶</a></h2><p>We've worked with this dataset before. It's presented in <a href=\"http://crr.ugent.be/papers/Brysbaert_Warriner_Kuperman_BRM_Concreteness_ratings.pdf\">Concreteness ratings for 40 thousand generally known English word lemmas</a> (Marc Brysbaert, Amy Beth Warriner, and Victor Kuperman, <em>Behavior Research Methods</em>, 2014). Overview:</p>\n",
    "<ol>\n",
    "<li><code>Word</code>: The word (str)</li>\n",
    "<li><code>Bigram</code>: Whether it is a single word or a two-word expression</li>\n",
    "<li><code>Conc.M</code>: The mean concreteness rating</li>\n",
    "<li><code>Conc.SD</code>: The standard deviation of the concreteness ratings (float)</li>\n",
    "<li><code>Unknown</code>: The number of persons indicating they did not know the word</li>\n",
    "<li><code>Total</code>: The total number of persons who rated the word</li>\n",
    "<li><code>Percent_known</code>: Percentage of participants who knew the word</li>\n",
    "<li><code>SUBTLEX</code>: The SUBTLEX-US frequency count</li>\n",
    "<li><code>Dom_Pos</code>: The part-of-speech where known</li>\n",
    "</ol>\n"
   ]
  },
  {
   "cell_type": "code",
   "execution_count": 13,
   "metadata": {},
   "outputs": [],
   "source": [
    "concreteness_df = pd.read_csv(\n",
    "    os.path.join(data_home, \"Concreteness_ratings_Brysbaert_et_al_BRM.csv\"),\n",
    "    index_col='Word')"
   ]
  },
  {
   "cell_type": "code",
   "execution_count": 14,
   "metadata": {},
   "outputs": [
    {
     "data": {
      "text/plain": [
       "(39954, 8)"
      ]
     },
     "execution_count": 14,
     "metadata": {},
     "output_type": "execute_result"
    }
   ],
   "source": [
    "concreteness_df.shape"
   ]
  },
  {
   "cell_type": "code",
   "execution_count": 15,
   "metadata": {},
   "outputs": [
    {
     "data": {
      "text/html": [
       "<div>\n",
       "<style scoped>\n",
       "    .dataframe tbody tr th:only-of-type {\n",
       "        vertical-align: middle;\n",
       "    }\n",
       "\n",
       "    .dataframe tbody tr th {\n",
       "        vertical-align: top;\n",
       "    }\n",
       "\n",
       "    .dataframe thead th {\n",
       "        text-align: right;\n",
       "    }\n",
       "</style>\n",
       "<table border=\"1\" class=\"dataframe\">\n",
       "  <thead>\n",
       "    <tr style=\"text-align: right;\">\n",
       "      <th></th>\n",
       "      <th>Bigram</th>\n",
       "      <th>Conc.M</th>\n",
       "      <th>Conc.SD</th>\n",
       "      <th>Unknown</th>\n",
       "      <th>Total</th>\n",
       "      <th>Percent_known</th>\n",
       "      <th>SUBTLEX</th>\n",
       "      <th>Dom_Pos</th>\n",
       "    </tr>\n",
       "    <tr>\n",
       "      <th>Word</th>\n",
       "      <th></th>\n",
       "      <th></th>\n",
       "      <th></th>\n",
       "      <th></th>\n",
       "      <th></th>\n",
       "      <th></th>\n",
       "      <th></th>\n",
       "      <th></th>\n",
       "    </tr>\n",
       "  </thead>\n",
       "  <tbody>\n",
       "    <tr>\n",
       "      <th>roadsweeper</th>\n",
       "      <td>0</td>\n",
       "      <td>4.85</td>\n",
       "      <td>0.37</td>\n",
       "      <td>1</td>\n",
       "      <td>27</td>\n",
       "      <td>0.96</td>\n",
       "      <td>0</td>\n",
       "      <td>0</td>\n",
       "    </tr>\n",
       "    <tr>\n",
       "      <th>traindriver</th>\n",
       "      <td>0</td>\n",
       "      <td>4.54</td>\n",
       "      <td>0.71</td>\n",
       "      <td>3</td>\n",
       "      <td>29</td>\n",
       "      <td>0.90</td>\n",
       "      <td>0</td>\n",
       "      <td>0</td>\n",
       "    </tr>\n",
       "    <tr>\n",
       "      <th>tush</th>\n",
       "      <td>0</td>\n",
       "      <td>4.45</td>\n",
       "      <td>1.01</td>\n",
       "      <td>3</td>\n",
       "      <td>25</td>\n",
       "      <td>0.88</td>\n",
       "      <td>66</td>\n",
       "      <td>0</td>\n",
       "    </tr>\n",
       "    <tr>\n",
       "      <th>hairdress</th>\n",
       "      <td>0</td>\n",
       "      <td>3.93</td>\n",
       "      <td>1.28</td>\n",
       "      <td>0</td>\n",
       "      <td>29</td>\n",
       "      <td>1.00</td>\n",
       "      <td>1</td>\n",
       "      <td>0</td>\n",
       "    </tr>\n",
       "    <tr>\n",
       "      <th>pharmaceutics</th>\n",
       "      <td>0</td>\n",
       "      <td>3.77</td>\n",
       "      <td>1.41</td>\n",
       "      <td>4</td>\n",
       "      <td>26</td>\n",
       "      <td>0.85</td>\n",
       "      <td>0</td>\n",
       "      <td>0</td>\n",
       "    </tr>\n",
       "  </tbody>\n",
       "</table>\n",
       "</div>"
      ],
      "text/plain": [
       "               Bigram  Conc.M  Conc.SD  Unknown  Total  Percent_known  \\\n",
       "Word                                                                    \n",
       "roadsweeper         0    4.85     0.37        1     27           0.96   \n",
       "traindriver         0    4.54     0.71        3     29           0.90   \n",
       "tush                0    4.45     1.01        3     25           0.88   \n",
       "hairdress           0    3.93     1.28        0     29           1.00   \n",
       "pharmaceutics       0    3.77     1.41        4     26           0.85   \n",
       "\n",
       "               SUBTLEX Dom_Pos  \n",
       "Word                            \n",
       "roadsweeper          0       0  \n",
       "traindriver          0       0  \n",
       "tush                66       0  \n",
       "hairdress            1       0  \n",
       "pharmaceutics        0       0  "
      ]
     },
     "execution_count": 15,
     "metadata": {},
     "output_type": "execute_result"
    }
   ],
   "source": [
    "concreteness_df.head()"
   ]
  },
  {
   "cell_type": "markdown",
   "metadata": {},
   "source": [
    "\n",
    "<h2 id=\"Sentiment-dataset\">Sentiment dataset<a class=\"anchor-link\" href=\"#Sentiment-dataset\">¶</a></h2>\n"
   ]
  },
  {
   "cell_type": "markdown",
   "metadata": {},
   "source": [
    "\n",
    "<p>The dataset <a href=\"https://www.humanities.mcmaster.ca/~vickup/Warriner-etal-BRM-2013.pdf\">Norms of valence, arousal, and dominance for 13,915 English lemmas</a> (Amy Beth Warriner, Victor Kuperman, and Marc Brysbaert, <em>Behavior Research Methods</em>, 2013) contains a lot of sentiment information about +13K words. The following code reads in the full dataset and then restricts to just the mean ratings for the three core semantic dimensions:</p>\n",
    "<ol>\n",
    "<li><code>Word</code>: The word (str)</li>\n",
    "<li><code>Valence</code> (positive/negative)</li>\n",
    "<li><code>Arousal</code> (intensity)</li>\n",
    "<li><code>Dominance</code></li>\n",
    "</ol>\n"
   ]
  },
  {
   "cell_type": "code",
   "execution_count": 16,
   "metadata": {},
   "outputs": [],
   "source": [
    "sentiment_df = pd.read_csv(\n",
    "    os.path.join(data_home, \"Warriner_et_al emot ratings.csv\"),\n",
    "    index_col='Word')"
   ]
  },
  {
   "cell_type": "code",
   "execution_count": 17,
   "metadata": {},
   "outputs": [
    {
     "data": {
      "text/plain": [
       "(13915, 64)"
      ]
     },
     "execution_count": 17,
     "metadata": {},
     "output_type": "execute_result"
    }
   ],
   "source": [
    "sentiment_df.shape"
   ]
  },
  {
   "cell_type": "code",
   "execution_count": 18,
   "metadata": {},
   "outputs": [],
   "source": [
    "sentiment_df = sentiment_df[['V.Mean.Sum', 'A.Mean.Sum', 'D.Mean.Sum']]\n",
    "\n",
    "sentiment_df = sentiment_df.rename(\n",
    "    columns={'V.Mean.Sum': 'Valence',\n",
    "             'A.Mean.Sum': 'Arousal',\n",
    "             'D.Mean.Sum': 'Dominance'})"
   ]
  },
  {
   "cell_type": "markdown",
   "metadata": {},
   "source": [
    "\n",
    "<h2 id=\"Beautiful-words\">Beautiful words<a class=\"anchor-link\" href=\"#Beautiful-words\">¶</a></h2><p>I took the <a href=\"http://www.alphadictionary.com/articles/100_most_beautiful_words.html\">100 Most Beautiful Words</a> (of which there are 107) and enriched them:</p>\n",
    "<ol>\n",
    "<li><code>Word</code>: The word (str).</li>\n",
    "<li><code>Pronunciation</code>: CMU Pronouncing Dictionary representation.</li>\n",
    "<li><code>Morphology</code>: Celex morphological representations.</li>\n",
    "<li><code>Frequency</code>: frequency according to the Google N-gram Corpus. </li>\n",
    "<li><code>Category</code>: 'most-beautiful' or 'regular'</li>\n",
    "</ol>\n",
    "<p>The 'regular' examples are 107 randomly selected non-proper-names.</p>\n",
    "<p>Maybe there's something interesting here?</p>\n"
   ]
  },
  {
   "cell_type": "code",
   "execution_count": 19,
   "metadata": {},
   "outputs": [],
   "source": [
    "beauty_df = pd.read_csv(\n",
    "    os.path.join(data_home, \"wordbeauty.csv\"),\n",
    "    index_col=\"Word\")"
   ]
  },
  {
   "cell_type": "code",
   "execution_count": 20,
   "metadata": {},
   "outputs": [
    {
     "data": {
      "text/plain": [
       "(214, 4)"
      ]
     },
     "execution_count": 20,
     "metadata": {},
     "output_type": "execute_result"
    }
   ],
   "source": [
    "beauty_df.shape"
   ]
  },
  {
   "cell_type": "code",
   "execution_count": 21,
   "metadata": {},
   "outputs": [
    {
     "data": {
      "text/html": [
       "<div>\n",
       "<style scoped>\n",
       "    .dataframe tbody tr th:only-of-type {\n",
       "        vertical-align: middle;\n",
       "    }\n",
       "\n",
       "    .dataframe tbody tr th {\n",
       "        vertical-align: top;\n",
       "    }\n",
       "\n",
       "    .dataframe thead th {\n",
       "        text-align: right;\n",
       "    }\n",
       "</style>\n",
       "<table border=\"1\" class=\"dataframe\">\n",
       "  <thead>\n",
       "    <tr style=\"text-align: right;\">\n",
       "      <th></th>\n",
       "      <th>Pronunciation</th>\n",
       "      <th>Morphology</th>\n",
       "      <th>Frequency</th>\n",
       "      <th>Category</th>\n",
       "    </tr>\n",
       "    <tr>\n",
       "      <th>Word</th>\n",
       "      <th></th>\n",
       "      <th></th>\n",
       "      <th></th>\n",
       "      <th></th>\n",
       "    </tr>\n",
       "  </thead>\n",
       "  <tbody>\n",
       "    <tr>\n",
       "      <th>lithe</th>\n",
       "      <td>L AY1 DH</td>\n",
       "      <td>(lithe)[A]</td>\n",
       "      <td>136457</td>\n",
       "      <td>most-beautiful</td>\n",
       "    </tr>\n",
       "    <tr>\n",
       "      <th>vestige</th>\n",
       "      <td>V EH1 S T IH0 JH</td>\n",
       "      <td>(vestige)[N]</td>\n",
       "      <td>135247</td>\n",
       "      <td>most-beautiful</td>\n",
       "    </tr>\n",
       "  </tbody>\n",
       "</table>\n",
       "</div>"
      ],
      "text/plain": [
       "            Pronunciation    Morphology  Frequency        Category\n",
       "Word                                                              \n",
       "lithe            L AY1 DH    (lithe)[A]     136457  most-beautiful\n",
       "vestige  V EH1 S T IH0 JH  (vestige)[N]     135247  most-beautiful"
      ]
     },
     "execution_count": 21,
     "metadata": {},
     "output_type": "execute_result"
    }
   ],
   "source": [
    "beauty_df.head(2)"
   ]
  },
  {
   "cell_type": "code",
   "execution_count": 22,
   "metadata": {},
   "outputs": [
    {
     "data": {
      "text/plain": [
       "most-beautiful    107\n",
       "regular           107\n",
       "Name: Category, dtype: int64"
      ]
     },
     "execution_count": 22,
     "metadata": {},
     "output_type": "execute_result"
    }
   ],
   "source": [
    "beauty_df['Category'].value_counts()"
   ]
  },
  {
   "cell_type": "code",
   "execution_count": 23,
   "metadata": {},
   "outputs": [
    {
     "data": {
      "text/html": [
       "<div>\n",
       "<style scoped>\n",
       "    .dataframe tbody tr th:only-of-type {\n",
       "        vertical-align: middle;\n",
       "    }\n",
       "\n",
       "    .dataframe tbody tr th {\n",
       "        vertical-align: top;\n",
       "    }\n",
       "\n",
       "    .dataframe thead th {\n",
       "        text-align: right;\n",
       "    }\n",
       "</style>\n",
       "<table border=\"1\" class=\"dataframe\">\n",
       "  <thead>\n",
       "    <tr style=\"text-align: right;\">\n",
       "      <th></th>\n",
       "      <th>Pronunciation</th>\n",
       "      <th>Morphology</th>\n",
       "      <th>Frequency</th>\n",
       "      <th>Category</th>\n",
       "    </tr>\n",
       "    <tr>\n",
       "      <th>Word</th>\n",
       "      <th></th>\n",
       "      <th></th>\n",
       "      <th></th>\n",
       "      <th></th>\n",
       "    </tr>\n",
       "  </thead>\n",
       "  <tbody>\n",
       "    <tr>\n",
       "      <th>lithe</th>\n",
       "      <td>L AY1 DH</td>\n",
       "      <td>(lithe)[A]</td>\n",
       "      <td>136457</td>\n",
       "      <td>most-beautiful</td>\n",
       "    </tr>\n",
       "    <tr>\n",
       "      <th>vestige</th>\n",
       "      <td>V EH1 S T IH0 JH</td>\n",
       "      <td>(vestige)[N]</td>\n",
       "      <td>135247</td>\n",
       "      <td>most-beautiful</td>\n",
       "    </tr>\n",
       "    <tr>\n",
       "      <th>nemesis</th>\n",
       "      <td>N EH1 M AH0 S IH0 S</td>\n",
       "      <td>(nemesis)[N]</td>\n",
       "      <td>1338430</td>\n",
       "      <td>most-beautiful</td>\n",
       "    </tr>\n",
       "    <tr>\n",
       "      <th>inure</th>\n",
       "      <td>IH0 N Y UH1 R</td>\n",
       "      <td>(inure)[V]</td>\n",
       "      <td>123230</td>\n",
       "      <td>most-beautiful</td>\n",
       "    </tr>\n",
       "    <tr>\n",
       "      <th>imbue</th>\n",
       "      <td>IH0 M B Y UW1</td>\n",
       "      <td>(imbue)[V]</td>\n",
       "      <td>105790</td>\n",
       "      <td>most-beautiful</td>\n",
       "    </tr>\n",
       "  </tbody>\n",
       "</table>\n",
       "</div>"
      ],
      "text/plain": [
       "               Pronunciation    Morphology  Frequency        Category\n",
       "Word                                                                 \n",
       "lithe               L AY1 DH    (lithe)[A]     136457  most-beautiful\n",
       "vestige     V EH1 S T IH0 JH  (vestige)[N]     135247  most-beautiful\n",
       "nemesis  N EH1 M AH0 S IH0 S  (nemesis)[N]    1338430  most-beautiful\n",
       "inure          IH0 N Y UH1 R    (inure)[V]     123230  most-beautiful\n",
       "imbue          IH0 M B Y UW1    (imbue)[V]     105790  most-beautiful"
      ]
     },
     "execution_count": 23,
     "metadata": {},
     "output_type": "execute_result"
    }
   ],
   "source": [
    "beauty_df.head()"
   ]
  },
  {
   "cell_type": "markdown",
   "metadata": {},
   "source": [
    "\n",
    "<h2 id=\"Novels-from-Project-Gutenberg\">Novels from Project Gutenberg<a class=\"anchor-link\" href=\"#Novels-from-Project-Gutenberg\">¶</a></h2><p>The Gutenberg metadata has been removed from these files, and the first line gives the title, author, and publication year in a systematic pattern.</p>\n"
   ]
  },
  {
   "cell_type": "code",
   "execution_count": 25,
   "metadata": {},
   "outputs": [
    {
     "data": {
      "text/plain": [
       "'data\\\\hackathon\\\\gutenberg'"
      ]
     },
     "execution_count": 25,
     "metadata": {},
     "output_type": "execute_result"
    }
   ],
   "source": [
    "gutenberg_home = os.path.join(data_home, \"gutenberg\")"
   ]
  },
  {
   "cell_type": "code",
   "execution_count": 26,
   "metadata": {},
   "outputs": [],
   "source": [
    "gutenberg_filenames = glob.glob(os.path.join(gutenberg_home, \"*.txt\"))"
   ]
  },
  {
   "cell_type": "code",
   "execution_count": 29,
   "metadata": {},
   "outputs": [
    {
     "data": {
      "text/plain": [
       "26"
      ]
     },
     "execution_count": 29,
     "metadata": {},
     "output_type": "execute_result"
    }
   ],
   "source": [
    "len(gutenberg_filenames)"
   ]
  },
  {
   "cell_type": "code",
   "execution_count": 30,
   "metadata": {},
   "outputs": [
    {
     "data": {
      "text/plain": [
       "['data\\\\hackathon\\\\gutenberg\\\\austen-emma.txt',\n",
       " 'data\\\\hackathon\\\\gutenberg\\\\austen-persuasion.txt',\n",
       " 'data\\\\hackathon\\\\gutenberg\\\\austen-sense.txt',\n",
       " 'data\\\\hackathon\\\\gutenberg\\\\blake-poems.txt',\n",
       " 'data\\\\hackathon\\\\gutenberg\\\\blake-songs.txt']"
      ]
     },
     "execution_count": 30,
     "metadata": {},
     "output_type": "execute_result"
    }
   ],
   "source": [
    "gutenberg_filenames[: 5]"
   ]
  },
  {
   "cell_type": "markdown",
   "metadata": {},
   "source": [
    "\n",
    "<h2 id=\"Potentially-useful-code\">Potentially useful code<a class=\"anchor-link\" href=\"#Potentially-useful-code\">¶</a></h2>\n"
   ]
  },
  {
   "cell_type": "markdown",
   "metadata": {},
   "source": [
    "\n",
    "<h3 id=\"Project-Gutenberg-iterator\">Project Gutenberg iterator<a class=\"anchor-link\" href=\"#Project-Gutenberg-iterator\">¶</a></h3><p>You might want to modify this, depending on how you want to process these texts (by word? sentence? chapter?).</p>\n"
   ]
  },
  {
   "cell_type": "code",
   "execution_count": 35,
   "metadata": {},
   "outputs": [],
   "source": [
    "def gutenberg_iterator(filename):\n",
    "    \"\"\"Yields paragraphs (as defined simply by multiple\n",
    "    newlines in a row).\n",
    "\n",
    "    Parameters\n",
    "    ----------\n",
    "    filename : str\n",
    "        Full path to the file.\n",
    "\n",
    "    Yields\n",
    "    ------\n",
    "    multiline str\n",
    "\n",
    "    \"\"\"\n",
    "    with open(filename) as f:\n",
    "        contents = f.read()\n",
    "    \n",
    "    for para in re.split(r\"[\\n\\s*]{2,}\", contents):\n",
    "        yield para"
   ]
  },
  {
   "cell_type": "code",
   "execution_count": 36,
   "metadata": {},
   "outputs": [
    {
     "name": "stdout",
     "output_type": "stream",
     "text": [
      "==================================================\n",
      "[Emma by Jane Austen 1816]\n",
      "==================================================\n",
      "VOLUME I\n",
      "==================================================\n",
      "CHAPTER I\n",
      "==================================================\n",
      "Emma Woodhouse, handsome, clever, and rich, with a comfortable home\n",
      "and happy disposition, seemed to unite some of the best blessings\n",
      "of existence; and had lived nearly twenty-one years in the world\n",
      "with very little to distress or vex her.\n",
      "==================================================\n",
      "She was the youngest of the two daughters of a most affectionate,\n",
      "indulgent father; and had, in consequence of her sister's marriage,\n",
      "been mistress of his house from a very early period.\n"
     ]
    }
   ],
   "source": [
    "emma_iterator = gutenberg_iterator(gutenberg_filenames[0])\n",
    "\n",
    "for _ in range(5):\n",
    "    print(\"=\"*50)\n",
    "    print(next(emma_iterator))"
   ]
  },
  {
   "cell_type": "markdown",
   "metadata": {},
   "source": [
    "\n",
    "<h3 id=\"Sentence-tokenizing-using-NLTK\">Sentence tokenizing using NLTK<a class=\"anchor-link\" href=\"#Sentence-tokenizing-using-NLTK\">¶</a></h3>\n"
   ]
  },
  {
   "cell_type": "code",
   "execution_count": 31,
   "metadata": {},
   "outputs": [],
   "source": [
    "from nltk.tokenize import sent_tokenize"
   ]
  },
  {
   "cell_type": "code",
   "execution_count": 32,
   "metadata": {},
   "outputs": [
    {
     "data": {
      "text/plain": [
       "['Hello?', 'This is Dr. Potts!', 'How are you?']"
      ]
     },
     "execution_count": 32,
     "metadata": {},
     "output_type": "execute_result"
    }
   ],
   "source": [
    "sent_tokenize(\"Hello? This is Dr. Potts! How are you?\")"
   ]
  },
  {
   "cell_type": "markdown",
   "metadata": {},
   "source": [
    "\n",
    "<h3 id=\"Word-counts\">Word counts<a class=\"anchor-link\" href=\"#Word-counts\">¶</a></h3><p>From assignment 2.</p>\n"
   ]
  },
  {
   "cell_type": "code",
   "execution_count": null,
   "metadata": {},
   "outputs": [],
   "source": [
    "\n",
    "def simple_tokenize(s):\n",
    "    \"\"\"Break str `s` into a list of str.\n",
    "\n",
    "    1. `s` has all of its peripheral whitespace removed.\n",
    "    2. `s` is downcased with `lower`.\n",
    "    3. `s` is split on whitespace.\n",
    "    4. For each token, any peripheral punctuation on it is stripped\n",
    "       off. Punctuation is here defined by `string.punctuation`.\n",
    "\n",
    "    Parameters\n",
    "    ----------\n",
    "    s : str\n",
    "        The string to tokenize.\n",
    "\n",
    "    Returns\n",
    "    -------\n",
    "    list of str\n",
    "    \"\"\"\n",
    "    punct = string.punctuation\n",
    "    final_toks = []\n",
    "    toks = s.lower().strip().split()\n",
    "    for w in toks:\n",
    "        final_toks.append(w.strip(punct))\n",
    "    return final_toks\n",
    "\n",
    "\n",
    "def word_counts(s, tokenizing_func=simple_tokenize):\n",
    "    \"\"\"Count distribution for the words in `s` according to `tokenizer`.\n",
    "\n",
    "    Parameters\n",
    "    ----------\n",
    "    s : str\n",
    "        String to tokenize and get  word counts for.\n",
    "    tokenizing_func : function\n",
    "        Any function that can be called as `tokenizing_func(s)` where\n",
    "        `s` is a string. The default is `simple_tokenize`.\n",
    "\n",
    "    Returns\n",
    "    -------\n",
    "    dict mapping str to int\n",
    "    \"\"\"\n",
    "\n"
   ]
  },
  {
   "cell_type": "markdown",
   "metadata": {},
   "source": [
    "\n",
    "<h3 id=\"egrep\">egrep<a class=\"anchor-link\" href=\"#egrep\">¶</a></h3><p>From assignment 5.</p>\n"
   ]
  },
  {
   "cell_type": "code",
   "execution_count": 33,
   "metadata": {},
   "outputs": [],
   "source": [
    "def egrep(regex, filename):\n",
    "    \"\"\"Python version of egrep. The function iterates through the\n",
    "    user's file `filename`, line-by-line, stripping off the final\n",
    "    newline character, and yielding only the lines that match the\n",
    "    user's regular expression `regex`.\n",
    "\n",
    "    Note: like basic egrep, a line that contains multiple matches for\n",
    "    `regex` is yielded only once.\n",
    "\n",
    "    Parameters\n",
    "    ----------\n",
    "    regex : Compiled regular expression\n",
    "        The pattern to use for matching\n",
    "    filename : str\n",
    "        Full path to the file to open and iterate through\n",
    "\n",
    "    Yields\n",
    "    ------\n",
    "    str\n",
    "        Lines from the file, with newline characters removed\n",
    "    \"\"\"\n",
    "    \n",
    "    with open(filename) as f:\n",
    "        content = f.read()\n",
    "        content = content.strip()\n",
    "        if regex.search(content):\n",
    "            yield content"
   ]
  }
 ],
 "metadata": {
  "kernelspec": {
   "display_name": "Python 3",
   "language": "python",
   "name": "python3"
  },
  "language_info": {
   "codemirror_mode": {
    "name": "ipython",
    "version": 3
   },
   "file_extension": ".py",
   "mimetype": "text/x-python",
   "name": "python",
   "nbconvert_exporter": "python",
   "pygments_lexer": "ipython3",
   "version": "3.8.3"
  }
 },
 "nbformat": 4,
 "nbformat_minor": 1
}
